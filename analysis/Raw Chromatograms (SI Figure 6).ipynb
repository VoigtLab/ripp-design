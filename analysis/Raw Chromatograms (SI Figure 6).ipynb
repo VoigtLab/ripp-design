{
 "cells": [
  {
   "cell_type": "code",
   "execution_count": 1,
   "metadata": {},
   "outputs": [
    {
     "name": "stderr",
     "output_type": "stream",
     "text": [
      "/home/eglassey/.local/lib/python3.7/site-packages/Bio/SubsMat/__init__.py:131: BiopythonDeprecationWarning: Bio.SubsMat has been deprecated, and we intend to remove it in a future release of Biopython. As an alternative, please consider using Bio.Align.substitution_matrices as a replacement, and contact the Biopython developers if you still need the Bio.SubsMat module.\n",
      "  BiopythonDeprecationWarning,\n"
     ]
    }
   ],
   "source": [
    "import matplotlib\n",
    "import numpy as np\n",
    "import lcmsanalysis as la\n",
    "import enzymeanalysis as da\n",
    "import enzymeplots as dp\n",
    "import matplotlib.pyplot as plt\n",
    "import pickle\n",
    "import pandas as pd"
   ]
  },
  {
   "cell_type": "code",
   "execution_count": 2,
   "metadata": {},
   "outputs": [],
   "source": [
    "%matplotlib inline"
   ]
  },
  {
   "cell_type": "markdown",
   "metadata": {},
   "source": [
    "## IMPORT DATA"
   ]
  },
  {
   "cell_type": "code",
   "execution_count": 3,
   "metadata": {},
   "outputs": [
    {
     "name": "stderr",
     "output_type": "stream",
     "text": [
      "/media/storage/EG/code/lcms-analysis/lcmsanalysis.py:391: FutureWarning: set_value is deprecated and will be removed in a future release. Please use .at[] or .iat[] accessors instead\n",
      "  grouped_df.set_value(ind, 'mod_area', mod_area+other_area)\n"
     ]
    }
   ],
   "source": [
    "with open('engineering_dataset.pickle', 'rb') as f:\n",
    "    data_df = pickle.load(f)\n",
    "sldf = la.lcms_df_processor(data_df, min_charges=8, min_contiguous_charges=4, max_big_peaks=1,\n",
    "                      max_little_peaks=3, min_qqq_area=10000, min_qtof_area=1000)"
   ]
  },
  {
   "cell_type": "code",
   "execution_count": 4,
   "metadata": {},
   "outputs": [],
   "source": [
    "sldf = sldf[sldf['media'] == 'TB']\n",
    "mod_plasmids = [7060,7056,7069,7137,7138,7142,7147,7160,7169]\n",
    "sldf = sldf[sldf['mod_plasmid'].isin(mod_plasmids)]"
   ]
  },
  {
   "cell_type": "markdown",
   "metadata": {},
   "source": [
    "# Export Chromatograms, grouped by enzyme and experiment"
   ]
  },
  {
   "cell_type": "code",
   "execution_count": 7,
   "metadata": {
    "scrolled": true
   },
   "outputs": [],
   "source": [
    "#tgn\n",
    "#ascan\n",
    "pep_plasmids = [3574] + list(range(3768,3782))\n",
    "dp.variant_raw_plots(pep_plasmids, sldf, save_prefix='tgn_scan_chromatograms')\n",
    "\n",
    "#spacing\n",
    "pep_plasmids = [3892,3893,3894,3895,3896,3902,3903,3904]\n",
    "dp.variant_raw_plots(pep_plasmids, sldf, save_prefix='tgn_spacing_chromatograms')\n",
    "\n",
    "#core variants\n",
    "pep_plasmids = ['2445-100', '2445-104', '2445-105', '2445-107', '2445-109', '2445-112', '2445-114', '2445-203', '2445-205', '2445-208', '2445-210', '2445-211', '2445-212', '2445-213', '2445-215', '2445-217', '2445-219', '2445-221', '2445-224', '2445-230', '2445-232', '2445-234', '2445-241', '2445-246', '2445-247', '2445-249', '2445-250', '2445-256', '2445-260', '2445-261', '2445-262', '2445-267', '2445-268', '2445-28', '2445-31', '2445-33', '2445-34', '2445-36', '2445-39', '2445-42', '2445-46', '2445-50', '2445-52', '2445-55', '2445-59', '2445-60', '2445-61', '2445-64', '2445-65', '2445-68', '2445-69', '2445-70', '2445-72', '2445-74', '2445-76', '2445-79', '2445-80', '2445-81', '2445-82', '2445-83', '2445-86', '2445-87', '2445-88', '2445-90', '2445-94', '2445-99', '3574', '3743', '3745', '3746', '3747', '3748', '3751', '3752', '3792']\n",
    "dp.variant_raw_plots(pep_plasmids, sldf, save_prefix='tgn_core_chromatograms', sort=True)"
   ]
  },
  {
   "cell_type": "code",
   "execution_count": 8,
   "metadata": {
    "scrolled": true
   },
   "outputs": [],
   "source": [
    "#plpxy\n",
    "#ascan\n",
    "pep_plasmids = [3162] + list(range(3360,3383)) + [3384]\n",
    "dp.variant_raw_plots(pep_plasmids, sldf, save_prefix='plp_scan_chromatograms')\n",
    "\n",
    "#spacing\n",
    "pep_plasmids = [2775,2776,2777,2778,2779,2780]\n",
    "dp.variant_raw_plots(pep_plasmids, sldf, save_prefix='plp_spacing_chromatograms')\n",
    "\n",
    "#core variants\n",
    "pep_plasmids = ['2446-102', '2446-103', '2446-104', '2446-105', '2446-106', '2446-107', '2446-108', '2446-11', '2446-113', '2446-116', '2446-118', '2446-123', '2446-125', '2446-126', '2446-130', '2446-131', '2446-132', '2446-135', '2446-137', '2446-14', '2446-24', '2446-28', '2446-3', '2446-30', '2446-34', '2446-4', '2446-44', '2446-45', '2446-47', '2446-5', '2446-9', '2446-99', '2473-12', '2473-16', '2473-17', '2473-18', '2473-2', '2473-20', '2473-23', '2473-24', '2473-25', '2473-26', '2473-27', '2473-29', '2473-3', '2473-31', '2473-32', '2473-34', '2473-37', '2473-38', '2473-4', '2473-40', '2473-42', '2473-43', '2473-46', '2473-47', '2473-48', '2473-49', '2473-5', '2473-52', '2473-53', '2473-56', '2473-57', '2473-58', '2473-59', '2473-60', '2473-7', '2473-8', '2787', '2788']\n",
    "dp.variant_raw_plots(pep_plasmids, sldf, save_prefix='plp_core_chromatograms', sort=True)"
   ]
  },
  {
   "cell_type": "code",
   "execution_count": 9,
   "metadata": {},
   "outputs": [],
   "source": [
    "#paa\n",
    "#ascan\n",
    "pep_plasmids = [3132] + list(range(3334,3340))\n",
    "dp.variant_raw_plots(pep_plasmids, sldf, save_prefix='paa_scan_chromatograms')\n",
    "\n",
    "#spacing\n",
    "pep_plasmids = [3521, 3530]\n",
    "dp.variant_raw_plots(pep_plasmids, sldf, save_prefix='paa_spacing_chromatograms')\n",
    "\n",
    "#core variants\n",
    "pep_plasmids = ['2472-100', '2472-106', '2472-107', '2472-11', '2472-110', '2472-113', '2472-115', '2472-116', '2472-118', '2472-119', '2472-122', '2472-123', '2472-125', '2472-127', '2472-13', '2472-130', '2472-131', '2472-16', '2472-17', '2472-18', '2472-20', '2472-21', '2472-22', '2472-23', '2472-24', '2472-25', '2472-27', '2472-28', '2472-30', '2472-31', '2472-32', '2472-33', '2472-35', '2472-37', '2472-39', '2472-41', '2472-42', '2472-43', '2472-44', '2472-45', '2472-50', '2472-51', '2472-52', '2472-53', '2472-56', '2472-57', '2472-58', '2472-6', '2472-60', '2472-62', '2472-63', '2472-65', '2472-66', '2472-67', '2472-68', '2472-69', '2472-7', '2472-79', '2472-83', '2472-9', '2472-90', '2472-91', '2472-92', '2472-93', '2472-94', '2472-95', '2472-96', '2472-97', '2472-98', '3132', '3348']\n",
    "dp.variant_raw_plots(pep_plasmids, sldf, save_prefix='paa_core_chromatograms', sort=True)"
   ]
  },
  {
   "cell_type": "code",
   "execution_count": 10,
   "metadata": {},
   "outputs": [
    {
     "name": "stderr",
     "output_type": "stream",
     "text": [
      "/home/eglassey/.local/lib/python3.7/site-packages/matplotlib/pyplot.py:514: RuntimeWarning: More than 20 figures have been opened. Figures created through the pyplot interface (`matplotlib.pyplot.figure`) are retained until explicitly closed and may consume too much memory. (To control this warning, see the rcParam `figure.max_open_warning`).\n",
      "  max_open_warning, RuntimeWarning)\n"
     ]
    }
   ],
   "source": [
    "#lyn\n",
    "#ascan\n",
    "pep_plasmids = [3906] + list(range(3907,3920))\n",
    "dp.variant_raw_plots(pep_plasmids, sldf, save_prefix='lyn_scan_chromatograms')\n",
    "\n",
    "#spacing\n",
    "pep_plasmids = [3905,2768,2769,2770,2771,2772,2773]\n",
    "dp.variant_raw_plots(pep_plasmids, sldf, save_prefix='lyn_spacing_chromatograms')\n",
    "\n",
    "#core variants\n",
    "pep_plasmids = ['2443-1', '2443-13', '2443-14', '2443-15', '2443-17', '2443-18', '2443-37', '2443-41', '2443-47', '2443-49', '2443-5', '2443-53', '2443-56', '2443-58', '2443-59', '2443-7', '2516', '2517', '2518', '2519', '2520', '2521', '2522', '2523', '2524', '2525', '2526', '2774']\n",
    "dp.variant_raw_plots(pep_plasmids, sldf, save_prefix='lyn_core_chromatograms', sort=True)"
   ]
  },
  {
   "cell_type": "code",
   "execution_count": 11,
   "metadata": {},
   "outputs": [],
   "source": [
    "#pade\n",
    "#core variants\n",
    "pep_plasmids = ['2439-11', '2439-13', '2439-14', '2439-26', '2439-27', '2439-28', '2439-30', '2439-31', '2439-32', '2439-34', '2439-35', '2439-36', '2439-40', '2439-43', '2439-44', '2439-45', '2439-46', '2439-47', '2439-8', '2439-9', '2454-10', '2454-11', '2454-12', '2454-14', '2454-15', '2454-3', '2454-4', '2454-5', '2454-6', '2454-7', '2454-9', '2793']\n",
    "dp.variant_raw_plots(pep_plasmids, sldf, save_prefix='pade_core_chromatograms', wrap=16, sort=True)"
   ]
  },
  {
   "cell_type": "code",
   "execution_count": 12,
   "metadata": {
    "scrolled": false
   },
   "outputs": [],
   "source": [
    "#thco\n",
    "#core variants\n",
    "pep_plasmids = ['2440-10', '2440-12', '2440-15', '2440-19', '2440-20', '2440-23', '2440-27', '2440-33', '2440-35', '2440-36', '2440-37', '2440-4', '2440-40', '2440-43', '2440-46', '2440-47', '2440-6', '2440-8', '2455-10', '2455-11', '2455-12', '2455-13', '2455-14', '2455-15', '2455-2', '2455-3', '2455-4', '2455-5', '2455-6', '2455-8', '2794']\n",
    "dp.variant_raw_plots(pep_plasmids, sldf, save_prefix='thco_core_chromatograms', sort=True)"
   ]
  },
  {
   "cell_type": "code",
   "execution_count": 13,
   "metadata": {},
   "outputs": [],
   "source": [
    "#las\n",
    "#core variants\n",
    "pep_plasmids = ['2441-10', '2441-12', '2441-14', '2441-15', '2441-18', '2441-19', '2441-23', '2441-25', '2441-26', '2441-30', '2441-32', '2441-33', '2441-34', '2441-38', '2441-39', '2441-41', '2441-42', '2441-43', '2441-44', '2441-45', '2441-46', '2441-47', '2441-48', '2456-1', '2456-12', '2456-13', '2456-15', '2456-16', '2456-17', '2456-3', '2456-4', '2456-5', '2456-6', '2456-7', '2456-8', '2456-9', '2792']\n",
    "dp.variant_raw_plots(pep_plasmids, sldf, save_prefix='las_core_chromatograms', sort=True)"
   ]
  },
  {
   "cell_type": "code",
   "execution_count": 14,
   "metadata": {},
   "outputs": [
    {
     "name": "stderr",
     "output_type": "stream",
     "text": [
      "/media/storage/EG/code/lcms-analysis/designeranalysis.py:383: FutureWarning: Sorting because non-concatenation axis is not aligned. A future version\n",
      "of pandas will change to not sort by default.\n",
      "\n",
      "To accept the future behavior, pass 'sort=False'.\n",
      "\n",
      "To retain the current behavior and silence the warning, pass 'sort=True'.\n",
      "\n",
      "  sdf = pd.concat(df_list)\n"
     ]
    }
   ],
   "source": [
    "#epi\n",
    "#core variants\n",
    "pep_plasmids = ['2442-1', '2442-13', '2442-14', '2442-15', '2442-4', '2442-5', '2451-10', '2451-13', '2451-14', '2451-16', '2451-19', '2451-2', '2451-20', '2451-22', '2451-23', '2451-26', '2451-27', '2451-28', '2451-29', '2451-31', '2451-33', '2451-34', '2451-36', '2451-4', '2451-5', '2790']\n",
    "dp.variant_raw_plots(pep_plasmids, sldf, save_prefix='epi_core_chromatograms', sort=True)"
   ]
  },
  {
   "cell_type": "code",
   "execution_count": 15,
   "metadata": {},
   "outputs": [],
   "source": [
    "#pal\n",
    "#core variants\n",
    "pep_plasmids = ['2438-10', '2438-104', '2438-105', '2438-107', '2438-15', '2438-17', '2438-18', '2438-19', '2438-22', '2438-30', '2438-32', '2438-35', '2438-36', '2438-38', '2438-4', '2438-41', '2438-42', '2438-43', '2438-44', '2438-46', '2438-48', '2438-51', '2438-53', '2438-54', '2438-60', '2438-63', '2438-65', '2438-66', '2438-70', '2438-72', '2438-73', '2438-74', '2438-75', '2438-76', '2438-77', '2438-79', '2438-81', '2438-82', '2438-84', '2438-87', '2438-89', '2438-9', '2438-91', '2438-92', '2438-94', '2438-95', '2438-99', '2452-1', '2452-10', '2452-11', '2452-12', '2452-13', '2452-14', '2452-15', '2452-16', '2452-17', '2452-18', '2452-19', '2452-20', '2452-22', '2452-23', '2452-25', '2452-26', '2452-27', '2452-28', '2452-3', '2452-30', '2452-31', '2452-32', '2452-34', '2452-35', '2452-36', '2452-4', '2452-5', '2452-7', '2452-8', '2791']\n",
    "dp.variant_raw_plots(pep_plasmids, sldf, save_prefix='pal_core_chromatograms', sort=True)"
   ]
  },
  {
   "cell_type": "code",
   "execution_count": null,
   "metadata": {},
   "outputs": [],
   "source": []
  },
  {
   "cell_type": "code",
   "execution_count": null,
   "metadata": {},
   "outputs": [],
   "source": []
  }
 ],
 "metadata": {
  "kernelspec": {
   "display_name": "Python 3",
   "language": "python",
   "name": "python3"
  },
  "language_info": {
   "codemirror_mode": {
    "name": "ipython",
    "version": 3
   },
   "file_extension": ".py",
   "mimetype": "text/x-python",
   "name": "python",
   "nbconvert_exporter": "python",
   "pygments_lexer": "ipython3",
   "version": "3.7.10"
  }
 },
 "nbformat": 4,
 "nbformat_minor": 2
}
